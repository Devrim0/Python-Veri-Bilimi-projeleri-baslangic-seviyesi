{
 "cells": [
  {
   "cell_type": "code",
   "execution_count": 1,
   "metadata": {},
   "outputs": [],
   "source": [
    "import pandas as pd"
   ]
  },
  {
   "cell_type": "code",
   "execution_count": 6,
   "metadata": {},
   "outputs": [],
   "source": [
    "import os \n",
    "os.chdir(\"C:/Users/Devrim/Desktop/Pyhton ile kariyer net iş bulma/veri Kümeleri\")"
   ]
  },
  {
   "cell_type": "code",
   "execution_count": 9,
   "metadata": {},
   "outputs": [
    {
     "data": {
      "text/html": [
       "<div>\n",
       "<style scoped>\n",
       "    .dataframe tbody tr th:only-of-type {\n",
       "        vertical-align: middle;\n",
       "    }\n",
       "\n",
       "    .dataframe tbody tr th {\n",
       "        vertical-align: top;\n",
       "    }\n",
       "\n",
       "    .dataframe thead th {\n",
       "        text-align: right;\n",
       "    }\n",
       "</style>\n",
       "<table border=\"1\" class=\"dataframe\">\n",
       "  <thead>\n",
       "    <tr style=\"text-align: right;\">\n",
       "      <th></th>\n",
       "      <th>Rank</th>\n",
       "      <th>Title</th>\n",
       "    </tr>\n",
       "  </thead>\n",
       "  <tbody>\n",
       "    <tr>\n",
       "      <th>0</th>\n",
       "      <td>1</td>\n",
       "      <td>DevOps Engineer</td>\n",
       "    </tr>\n",
       "    <tr>\n",
       "      <th>1</th>\n",
       "      <td>2</td>\n",
       "      <td>Web Developer</td>\n",
       "    </tr>\n",
       "    <tr>\n",
       "      <th>2</th>\n",
       "      <td>3</td>\n",
       "      <td>Information Security Analyst</td>\n",
       "    </tr>\n",
       "    <tr>\n",
       "      <th>3</th>\n",
       "      <td>4</td>\n",
       "      <td>Data Scientist</td>\n",
       "    </tr>\n",
       "    <tr>\n",
       "      <th>4</th>\n",
       "      <td>5</td>\n",
       "      <td>Business Analyst</td>\n",
       "    </tr>\n",
       "    <tr>\n",
       "      <th>5</th>\n",
       "      <td>6</td>\n",
       "      <td>Software Developer</td>\n",
       "    </tr>\n",
       "    <tr>\n",
       "      <th>6</th>\n",
       "      <td>7</td>\n",
       "      <td>Software Engineer</td>\n",
       "    </tr>\n",
       "    <tr>\n",
       "      <th>7</th>\n",
       "      <td>8</td>\n",
       "      <td>Machine Learning Expert</td>\n",
       "    </tr>\n",
       "    <tr>\n",
       "      <th>8</th>\n",
       "      <td>9</td>\n",
       "      <td>Database Administrator</td>\n",
       "    </tr>\n",
       "    <tr>\n",
       "      <th>9</th>\n",
       "      <td>10</td>\n",
       "      <td>Data Analyst</td>\n",
       "    </tr>\n",
       "    <tr>\n",
       "      <th>10</th>\n",
       "      <td>11</td>\n",
       "      <td>IT Consultant</td>\n",
       "    </tr>\n",
       "    <tr>\n",
       "      <th>11</th>\n",
       "      <td>12</td>\n",
       "      <td>SAP Consultant</td>\n",
       "    </tr>\n",
       "    <tr>\n",
       "      <th>12</th>\n",
       "      <td>13</td>\n",
       "      <td>Big Data Engineer</td>\n",
       "    </tr>\n",
       "    <tr>\n",
       "      <th>13</th>\n",
       "      <td>14</td>\n",
       "      <td>Project Manager</td>\n",
       "    </tr>\n",
       "    <tr>\n",
       "      <th>14</th>\n",
       "      <td>15</td>\n",
       "      <td>Software Tester</td>\n",
       "    </tr>\n",
       "    <tr>\n",
       "      <th>15</th>\n",
       "      <td>16</td>\n",
       "      <td>Data Engineer</td>\n",
       "    </tr>\n",
       "    <tr>\n",
       "      <th>16</th>\n",
       "      <td>17</td>\n",
       "      <td>Data Analyst</td>\n",
       "    </tr>\n",
       "    <tr>\n",
       "      <th>17</th>\n",
       "      <td>18</td>\n",
       "      <td>Digital Marketer</td>\n",
       "    </tr>\n",
       "    <tr>\n",
       "      <th>18</th>\n",
       "      <td>19</td>\n",
       "      <td>Machine Learning Engineer</td>\n",
       "    </tr>\n",
       "    <tr>\n",
       "      <th>19</th>\n",
       "      <td>20</td>\n",
       "      <td>Data Science Generalist</td>\n",
       "    </tr>\n",
       "    <tr>\n",
       "      <th>20</th>\n",
       "      <td>21</td>\n",
       "      <td>IT Engineer</td>\n",
       "    </tr>\n",
       "    <tr>\n",
       "      <th>21</th>\n",
       "      <td>22</td>\n",
       "      <td>Java Developer</td>\n",
       "    </tr>\n",
       "    <tr>\n",
       "      <th>22</th>\n",
       "      <td>23</td>\n",
       "      <td>Analyst</td>\n",
       "    </tr>\n",
       "    <tr>\n",
       "      <th>23</th>\n",
       "      <td>24</td>\n",
       "      <td>Security Analyst</td>\n",
       "    </tr>\n",
       "    <tr>\n",
       "      <th>24</th>\n",
       "      <td>25</td>\n",
       "      <td>Full Stack Developer</td>\n",
       "    </tr>\n",
       "    <tr>\n",
       "      <th>25</th>\n",
       "      <td>26</td>\n",
       "      <td>IT Support</td>\n",
       "    </tr>\n",
       "    <tr>\n",
       "      <th>26</th>\n",
       "      <td>27</td>\n",
       "      <td>Designer</td>\n",
       "    </tr>\n",
       "    <tr>\n",
       "      <th>27</th>\n",
       "      <td>28</td>\n",
       "      <td>Data Architect</td>\n",
       "    </tr>\n",
       "    <tr>\n",
       "      <th>28</th>\n",
       "      <td>29</td>\n",
       "      <td>Financial Analyst</td>\n",
       "    </tr>\n",
       "    <tr>\n",
       "      <th>29</th>\n",
       "      <td>30</td>\n",
       "      <td>Technical Engineer</td>\n",
       "    </tr>\n",
       "  </tbody>\n",
       "</table>\n",
       "</div>"
      ],
      "text/plain": [
       "    Rank                         Title\n",
       "0      1               DevOps Engineer\n",
       "1      2                 Web Developer\n",
       "2      3  Information Security Analyst\n",
       "3      4               Data Scientist \n",
       "4      5              Business Analyst\n",
       "5      6            Software Developer\n",
       "6      7             Software Engineer\n",
       "7      8       Machine Learning Expert\n",
       "8      9        Database Administrator\n",
       "9     10                  Data Analyst\n",
       "10    11                 IT Consultant\n",
       "11    12                SAP Consultant\n",
       "12    13             Big Data Engineer\n",
       "13    14               Project Manager\n",
       "14    15               Software Tester\n",
       "15    16                 Data Engineer\n",
       "16    17                  Data Analyst\n",
       "17    18              Digital Marketer\n",
       "18    19     Machine Learning Engineer\n",
       "19    20       Data Science Generalist\n",
       "20    21                   IT Engineer\n",
       "21    22                Java Developer\n",
       "22    23                       Analyst\n",
       "23    24              Security Analyst\n",
       "24    25          Full Stack Developer\n",
       "25    26                    IT Support\n",
       "26    27                      Designer\n",
       "27    28                Data Architect\n",
       "28    29             Financial Analyst\n",
       "29    30            Technical Engineer"
      ]
     },
     "execution_count": 9,
     "metadata": {},
     "output_type": "execute_result"
    }
   ],
   "source": [
    "kupa=pd.read_csv(\"job_titles_small.csv\")\n",
    "kupa"
   ]
  },
  {
   "cell_type": "code",
   "execution_count": 14,
   "metadata": {},
   "outputs": [],
   "source": [
    "kupa[\"Title\"]=kupa[\"Title\"].astype(\"category\")\n",
    "\n"
   ]
  },
  {
   "cell_type": "code",
   "execution_count": 15,
   "metadata": {},
   "outputs": [
    {
     "name": "stdout",
     "output_type": "stream",
     "text": [
      "<class 'pandas.core.frame.DataFrame'>\n",
      "RangeIndex: 30 entries, 0 to 29\n",
      "Data columns (total 2 columns):\n",
      " #   Column  Non-Null Count  Dtype   \n",
      "---  ------  --------------  -----   \n",
      " 0   Rank    30 non-null     int64   \n",
      " 1   Title   30 non-null     category\n",
      "dtypes: category(1), int64(1)\n",
      "memory usage: 1.9 KB\n"
     ]
    }
   ],
   "source": [
    "kupa.info()"
   ]
  },
  {
   "cell_type": "code",
   "execution_count": 16,
   "metadata": {},
   "outputs": [
    {
     "data": {
      "text/plain": [
       "29"
      ]
     },
     "execution_count": 16,
     "metadata": {},
     "output_type": "execute_result"
    }
   ],
   "source": [
    "kupa[\"Title\"].nunique()"
   ]
  },
  {
   "cell_type": "code",
   "execution_count": 17,
   "metadata": {},
   "outputs": [
    {
     "data": {
      "text/plain": [
       "0                  DevOps Engineer\n",
       "1                    Web Developer\n",
       "2     Information Security Analyst\n",
       "3                  Data Scientist \n",
       "4                 Business Analyst\n",
       "5               Software Developer\n",
       "6                Software Engineer\n",
       "7          Machine Learning Expert\n",
       "8           Database Administrator\n",
       "9                     Data Analyst\n",
       "10                   IT Consultant\n",
       "11                  SAP Consultant\n",
       "12               Big Data Engineer\n",
       "13                 Project Manager\n",
       "14                 Software Tester\n",
       "15                   Data Engineer\n",
       "16                    Data Analyst\n",
       "17                Digital Marketer\n",
       "18       Machine Learning Engineer\n",
       "19         Data Science Generalist\n",
       "20                     IT Engineer\n",
       "21                  Java Developer\n",
       "22                         Analyst\n",
       "23                Security Analyst\n",
       "24            Full Stack Developer\n",
       "25                      IT Support\n",
       "26                        Designer\n",
       "27                  Data Architect\n",
       "28               Financial Analyst\n",
       "29              Technical Engineer\n",
       "Name: Title, dtype: category\n",
       "Categories (29, object): ['Analyst', 'Big Data Engineer', 'Business Analyst', 'Data Analyst', ..., 'Software Engineer', 'Software Tester', 'Technical Engineer', 'Web Developer']"
      ]
     },
     "execution_count": 17,
     "metadata": {},
     "output_type": "execute_result"
    }
   ],
   "source": [
    "kupa[\"Title\"]"
   ]
  },
  {
   "cell_type": "code",
   "execution_count": 18,
   "metadata": {},
   "outputs": [
    {
     "data": {
      "text/plain": [
       "0                  devops engineer\n",
       "1                    web developer\n",
       "2     information security analyst\n",
       "3                  data scientist \n",
       "4                 business analyst\n",
       "5               software developer\n",
       "6                software engineer\n",
       "7          machine learning expert\n",
       "8           database administrator\n",
       "9                     data analyst\n",
       "10                   it consultant\n",
       "11                  sap consultant\n",
       "12               big data engineer\n",
       "13                 project manager\n",
       "14                 software tester\n",
       "15                   data engineer\n",
       "16                    data analyst\n",
       "17                digital marketer\n",
       "18       machine learning engineer\n",
       "19         data science generalist\n",
       "20                     it engineer\n",
       "21                  java developer\n",
       "22                         analyst\n",
       "23                security analyst\n",
       "24            full stack developer\n",
       "25                      it support\n",
       "26                        designer\n",
       "27                  data architect\n",
       "28               financial analyst\n",
       "29              technical engineer\n",
       "Name: Title, dtype: object"
      ]
     },
     "execution_count": 18,
     "metadata": {},
     "output_type": "execute_result"
    }
   ],
   "source": [
    "kupa[\"Title\"].str.lower()"
   ]
  },
  {
   "cell_type": "code",
   "execution_count": 20,
   "metadata": {},
   "outputs": [
    {
     "data": {
      "text/plain": [
       "0                  DEVOPS ENGINEER\n",
       "1                    WEB DEVELOPER\n",
       "2     INFORMATION SECURITY ANALYST\n",
       "3                  DATA SCIENTIST \n",
       "4                 BUSINESS ANALYST\n",
       "5               SOFTWARE DEVELOPER\n",
       "6                SOFTWARE ENGINEER\n",
       "7          MACHINE LEARNING EXPERT\n",
       "8           DATABASE ADMINISTRATOR\n",
       "9                     DATA ANALYST\n",
       "10                   IT CONSULTANT\n",
       "11                  SAP CONSULTANT\n",
       "12               BIG DATA ENGINEER\n",
       "13                 PROJECT MANAGER\n",
       "14                 SOFTWARE TESTER\n",
       "15                   DATA ENGINEER\n",
       "16                    DATA ANALYST\n",
       "17                DIGITAL MARKETER\n",
       "18       MACHINE LEARNING ENGINEER\n",
       "19         DATA SCIENCE GENERALIST\n",
       "20                     IT ENGINEER\n",
       "21                  JAVA DEVELOPER\n",
       "22                         ANALYST\n",
       "23                SECURITY ANALYST\n",
       "24            FULL STACK DEVELOPER\n",
       "25                      IT SUPPORT\n",
       "26                        DESIGNER\n",
       "27                  DATA ARCHITECT\n",
       "28               FINANCIAL ANALYST\n",
       "29              TECHNICAL ENGINEER\n",
       "Name: Title, dtype: object"
      ]
     },
     "execution_count": 20,
     "metadata": {},
     "output_type": "execute_result"
    }
   ],
   "source": [
    "kupa[\"Title\"].str.upper()"
   ]
  },
  {
   "cell_type": "code",
   "execution_count": 23,
   "metadata": {},
   "outputs": [
    {
     "data": {
      "text/plain": [
       "0                  Devops Engineer\n",
       "1                    Web Developer\n",
       "2     Information Security Analyst\n",
       "3                  Data Scientist \n",
       "4                 Business Analyst\n",
       "5               Software Developer\n",
       "6                Software Engineer\n",
       "7          Machine Learning Expert\n",
       "8           Database Administrator\n",
       "9                     Data Analyst\n",
       "10                   It Consultant\n",
       "11                  Sap Consultant\n",
       "12               Big Data Engineer\n",
       "13                 Project Manager\n",
       "14                 Software Tester\n",
       "15                   Data Engineer\n",
       "16                    Data Analyst\n",
       "17                Digital Marketer\n",
       "18       Machine Learning Engineer\n",
       "19         Data Science Generalist\n",
       "20                     It Engineer\n",
       "21                  Java Developer\n",
       "22                         Analyst\n",
       "23                Security Analyst\n",
       "24            Full Stack Developer\n",
       "25                      It Support\n",
       "26                        Designer\n",
       "27                  Data Architect\n",
       "28               Financial Analyst\n",
       "29              Technical Engineer\n",
       "Name: Title, dtype: object"
      ]
     },
     "execution_count": 23,
     "metadata": {},
     "output_type": "execute_result"
    }
   ],
   "source": [
    "kupa[\"Title\"]=kupa[\"Title\"].str.lower()\n",
    "kupa[\"Title\"].str.title()\n",
    "\n"
   ]
  },
  {
   "cell_type": "code",
   "execution_count": 24,
   "metadata": {},
   "outputs": [
    {
     "data": {
      "text/plain": [
       "0     15\n",
       "1     13\n",
       "2     28\n",
       "3     15\n",
       "4     16\n",
       "5     18\n",
       "6     17\n",
       "7     23\n",
       "8     22\n",
       "9     12\n",
       "10    13\n",
       "11    14\n",
       "12    17\n",
       "13    15\n",
       "14    15\n",
       "15    13\n",
       "16    12\n",
       "17    16\n",
       "18    25\n",
       "19    23\n",
       "20    11\n",
       "21    14\n",
       "22     7\n",
       "23    16\n",
       "24    20\n",
       "25    10\n",
       "26     8\n",
       "27    14\n",
       "28    17\n",
       "29    18\n",
       "Name: Title, dtype: int64"
      ]
     },
     "execution_count": 24,
     "metadata": {},
     "output_type": "execute_result"
    }
   ],
   "source": [
    "kupa[\"Title\"].str.len()"
   ]
  },
  {
   "cell_type": "code",
   "execution_count": 26,
   "metadata": {},
   "outputs": [
    {
     "data": {
      "text/plain": [
       "0                  devops engineer\n",
       "1                    web developer\n",
       "2     information security analyst\n",
       "3                  data scientist \n",
       "4                 business analyst\n",
       "5               software developer\n",
       "6                software engineer\n",
       "7          machine learning expert\n",
       "8           database administrator\n",
       "9                     data analyst\n",
       "10                   it consultant\n",
       "11                  sap consultant\n",
       "12               big data engineer\n",
       "13                 project manager\n",
       "14                 software tester\n",
       "15                   data engineer\n",
       "16                    data analyst\n",
       "17                digital marketer\n",
       "18       machine learning engineer\n",
       "19         data science generalist\n",
       "20                     it engineer\n",
       "21                  java developer\n",
       "22                         analyst\n",
       "23                security analyst\n",
       "24            full stack developer\n",
       "25                      it support\n",
       "26            Bilgisayar Mühendisi\n",
       "27                  data architect\n",
       "28               financial analyst\n",
       "29              technical engineer\n",
       "Name: Title, dtype: object"
      ]
     },
     "execution_count": 26,
     "metadata": {},
     "output_type": "execute_result"
    }
   ],
   "source": [
    "kupa[\"Title\"].str.replace(\"designer\",\"Bilgisayar Mühendisi\")"
   ]
  },
  {
   "cell_type": "code",
   "execution_count": 31,
   "metadata": {},
   "outputs": [
    {
     "data": {
      "text/plain": [
       "0      1\n",
       "1      2\n",
       "2      3\n",
       "3      4\n",
       "4      5\n",
       "5      6\n",
       "6      7\n",
       "7      8\n",
       "8      9\n",
       "9     10\n",
       "10    11\n",
       "11    12\n",
       "12    13\n",
       "13    14\n",
       "14    15\n",
       "15    16\n",
       "16    17\n",
       "17    18\n",
       "18    19\n",
       "19    20\n",
       "20    21\n",
       "21    22\n",
       "22    23\n",
       "23    24\n",
       "24    25\n",
       "25    26\n",
       "26    27\n",
       "27    28\n",
       "28    29\n",
       "29    30\n",
       "Name: Rank, dtype: int64"
      ]
     },
     "execution_count": 31,
     "metadata": {},
     "output_type": "execute_result"
    }
   ],
   "source": [
    " kupa[\"Rank\"]\n",
    "    "
   ]
  },
  {
   "cell_type": "code",
   "execution_count": 33,
   "metadata": {},
   "outputs": [
    {
     "data": {
      "text/plain": [
       "0     False\n",
       "1     False\n",
       "2     False\n",
       "3     False\n",
       "4     False\n",
       "5     False\n",
       "6     False\n",
       "7     False\n",
       "8     False\n",
       "9      True\n",
       "10    False\n",
       "11    False\n",
       "12    False\n",
       "13    False\n",
       "14    False\n",
       "15    False\n",
       "16     True\n",
       "17    False\n",
       "18    False\n",
       "19    False\n",
       "20    False\n",
       "21    False\n",
       "22    False\n",
       "23    False\n",
       "24    False\n",
       "25    False\n",
       "26    False\n",
       "27    False\n",
       "28    False\n",
       "29    False\n",
       "Name: Title, dtype: bool"
      ]
     },
     "execution_count": 33,
     "metadata": {},
     "output_type": "execute_result"
    }
   ],
   "source": [
    "kupa[\"Title\"].str.lower().str.contains(\"data analyst\")"
   ]
  },
  {
   "cell_type": "code",
   "execution_count": null,
   "metadata": {},
   "outputs": [],
   "source": []
  }
 ],
 "metadata": {
  "kernelspec": {
   "display_name": "Python 3",
   "language": "python",
   "name": "python3"
  },
  "language_info": {
   "codemirror_mode": {
    "name": "ipython",
    "version": 3
   },
   "file_extension": ".py",
   "mimetype": "text/x-python",
   "name": "python",
   "nbconvert_exporter": "python",
   "pygments_lexer": "ipython3",
   "version": "3.8.5"
  }
 },
 "nbformat": 4,
 "nbformat_minor": 4
}
