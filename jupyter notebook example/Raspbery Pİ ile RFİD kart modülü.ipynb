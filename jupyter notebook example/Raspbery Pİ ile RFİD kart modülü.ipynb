{
 "cells": [
  {
   "cell_type": "code",
   "execution_count": 2,
   "id": "10b55406",
   "metadata": {},
   "outputs": [
    {
     "name": "stdout",
     "output_type": "stream",
     "text": [
      "\n",
      "Note: you may need to restart the kernel to use updated packages.\n"
     ]
    }
   ],
   "source": [
    "conda install pi-rc522\n"
   ]
  },
  {
   "cell_type": "code",
   "execution_count": 6,
   "id": "2db40f24",
   "metadata": {},
   "outputs": [
    {
     "ename": "ModuleNotFoundError",
     "evalue": "No module named 'pirc522'",
     "output_type": "error",
     "traceback": [
      "\u001b[1;31m---------------------------------------------------------------------------\u001b[0m",
      "\u001b[1;31mModuleNotFoundError\u001b[0m                       Traceback (most recent call last)",
      "\u001b[1;32m<ipython-input-6-862a443b184e>\u001b[0m in \u001b[0;36m<module>\u001b[1;34m\u001b[0m\n\u001b[1;32m----> 1\u001b[1;33m \u001b[1;32mfrom\u001b[0m \u001b[0mpirc522\u001b[0m \u001b[1;32mimport\u001b[0m \u001b[0mRFID\u001b[0m\u001b[1;33m\u001b[0m\u001b[1;33m\u001b[0m\u001b[0m\n\u001b[0m\u001b[0;32m      2\u001b[0m \u001b[1;32mimport\u001b[0m \u001b[0msignal\u001b[0m\u001b[1;33m\u001b[0m\u001b[1;33m\u001b[0m\u001b[0m\n\u001b[0;32m      3\u001b[0m \u001b[1;32mimport\u001b[0m \u001b[0mtime\u001b[0m\u001b[1;33m\u001b[0m\u001b[1;33m\u001b[0m\u001b[0m\n\u001b[0;32m      4\u001b[0m \u001b[1;32mimport\u001b[0m \u001b[0mRPi\u001b[0m\u001b[1;33m.\u001b[0m\u001b[0mGPIO\u001b[0m \u001b[1;32mas\u001b[0m \u001b[0mGPIO\u001b[0m\u001b[1;33m\u001b[0m\u001b[1;33m\u001b[0m\u001b[0m\n\u001b[0;32m      5\u001b[0m \u001b[1;33m\u001b[0m\u001b[0m\n",
      "\u001b[1;31mModuleNotFoundError\u001b[0m: No module named 'pirc522'"
     ]
    }
   ],
   "source": [
    "from pirc522 import RFID\n",
    "import signal\n",
    "import time\n",
    "import RPi.GPIO as GPIO \n",
    " \n",
    "ledpin = 7\n",
    "GPIO.setmode(GPIO.BOARD)\n",
    "GPIO.setup(ledpin, GPIO.OUT)\n",
    "rdr = RFID()\n",
    "util = rdr.util()\n",
    "util.debug = True\n",
    " \n",
    "while True:\n",
    "\trdr.wait_for_tag()\n",
    "\t(error, data) = rdr.request()\n",
    "\tif not error:\n",
    "\t\tprint(\"\\nKart Algilandi!\")\n",
    "\t\t(error, uid) = rdr.anticoll()\n",
    "\t\tif not error:\n",
    "\t\t\t# Print UID\n",
    "\t\t\tkart_uid = str(uid[0])+\" \"+str(uid[1])+\" \"+str(uid[2])+\" \"+str(uid[3])+\" \"+str(uid[4])\n",
    "\t\t\tprint(kart_uid)\n",
    "\t\t\tif kart_uid == \"xxxxxxxxxxxxxxxx\":\n",
    "\t\t\t\tprint(\"LED Yandi!\")\n",
    "\t\t\t\tGPIO.output(ledpin, True)\t\t\t\t\n",
    "\t\t\telse: \n",
    "\t\t\t\tprint(\"LED Sondu!\")\n",
    "\t\t\t\tGPIO.output(ledpin, False)"
   ]
  },
  {
   "cell_type": "code",
   "execution_count": null,
   "id": "bd832722",
   "metadata": {},
   "outputs": [],
   "source": []
  }
 ],
 "metadata": {
  "kernelspec": {
   "display_name": "Python 3",
   "language": "python",
   "name": "python3"
  },
  "language_info": {
   "codemirror_mode": {
    "name": "ipython",
    "version": 3
   },
   "file_extension": ".py",
   "mimetype": "text/x-python",
   "name": "python",
   "nbconvert_exporter": "python",
   "pygments_lexer": "ipython3",
   "version": "3.8.8"
  }
 },
 "nbformat": 4,
 "nbformat_minor": 5
}
