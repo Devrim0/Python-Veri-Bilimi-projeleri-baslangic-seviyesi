{
 "cells": [
  {
   "cell_type": "code",
   "execution_count": 1,
   "id": "3bef1beb",
   "metadata": {},
   "outputs": [],
   "source": [
    "from bs4 import BeautifulSoup"
   ]
  },
  {
   "cell_type": "code",
   "execution_count": 5,
   "id": "914e82a6",
   "metadata": {},
   "outputs": [
    {
     "name": "stdout",
     "output_type": "stream",
     "text": [
      "Örgün ve İkinci Öğretim Onur - Yüksek Onur - Yüzde On Listeleri\n",
      "YAZ OKULU BAŞVURU PLANI\n",
      "Azami süresini dolduran öğrenciler için Ek Sınav Programı Hk.\n",
      "YAZ OKULU BAŞVURU PLANI\n",
      "Azami sürelerini dolduran öğrenciler hakkında\n",
      "Mezun Durumunda Olan Öğrenciler Hakkında\n",
      "STAJ BAŞVURULARI HK. (GENEL DUYURU)\n",
      "Bitirme Raporları Teslimi Turnitin Bilgileri\n",
      " Bitirme  Yazım Kuralları\n",
      "TUSAŞ İş İlanı\n",
      "ZORUNLU STAJ BELGESI HK ** GÜNCEL\n",
      "Mezuniyet Sonrası Mühendislik Webinarına Davet\n",
      "Yatay Geçiş, Dikey Geçiş, Yurt Dışı, Merkezi Yerleştirme Yatay Geçiş / İntibak ve Muafiyet İşlemleri \n"
     ]
    }
   ],
   "source": [
    "import requests\n",
    "from bs4 import BeautifulSoup\n",
    "r = requests.get('http://mekatronik.kocaeli.edu.tr/duyurular.php')\n",
    "source = BeautifulSoup(r.content,\"lxml\")\n",
    "solmenu = source.find_all(\"div\",attrs={\"class\":\"modal-header\"})\n",
    "for sol in solmenu:\n",
    "    print(sol.find(\"h2\",attrs={\"class\":\"modal-title\"}).text)"
   ]
  },
  {
   "cell_type": "code",
   "execution_count": null,
   "id": "8731ad69",
   "metadata": {},
   "outputs": [],
   "source": []
  }
 ],
 "metadata": {
  "kernelspec": {
   "display_name": "Python 3",
   "language": "python",
   "name": "python3"
  },
  "language_info": {
   "codemirror_mode": {
    "name": "ipython",
    "version": 3
   },
   "file_extension": ".py",
   "mimetype": "text/x-python",
   "name": "python",
   "nbconvert_exporter": "python",
   "pygments_lexer": "ipython3",
   "version": "3.8.8"
  }
 },
 "nbformat": 4,
 "nbformat_minor": 5
}
