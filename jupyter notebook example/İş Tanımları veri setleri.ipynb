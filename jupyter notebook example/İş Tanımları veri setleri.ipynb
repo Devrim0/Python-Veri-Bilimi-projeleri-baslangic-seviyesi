{
 "cells": [
  {
   "cell_type": "code",
   "execution_count": 8,
   "id": "3a8b6314",
   "metadata": {},
   "outputs": [],
   "source": [
    "from nltk import word_tokenize\n",
    "from nltk.corpus import stopwords\n",
    "from nltk.stem import WordNetLemmatizer\n",
    "\n",
    "import pandas as pd"
   ]
  },
  {
   "cell_type": "code",
   "execution_count": 9,
   "id": "f176d12c",
   "metadata": {},
   "outputs": [
    {
     "data": {
      "text/html": [
       "<div>\n",
       "<style scoped>\n",
       "    .dataframe tbody tr th:only-of-type {\n",
       "        vertical-align: middle;\n",
       "    }\n",
       "\n",
       "    .dataframe tbody tr th {\n",
       "        vertical-align: top;\n",
       "    }\n",
       "\n",
       "    .dataframe thead th {\n",
       "        text-align: right;\n",
       "    }\n",
       "</style>\n",
       "<table border=\"1\" class=\"dataframe\">\n",
       "  <thead>\n",
       "    <tr style=\"text-align: right;\">\n",
       "      <th></th>\n",
       "      <th>Query</th>\n",
       "      <th>Job Title</th>\n",
       "      <th>Description</th>\n",
       "    </tr>\n",
       "  </thead>\n",
       "  <tbody>\n",
       "    <tr>\n",
       "      <th>1</th>\n",
       "      <td>Data Scientist</td>\n",
       "      <td>Junior Data Scientist Apprenticeship</td>\n",
       "      <td>Job Description As a Junior Data Scientist at ...</td>\n",
       "    </tr>\n",
       "    <tr>\n",
       "      <th>2</th>\n",
       "      <td>Data Scientist</td>\n",
       "      <td>HBO Data Scientist, Content Science</td>\n",
       "      <td>OVERALL SUMMARY As a Data Scientist on the Dat...</td>\n",
       "    </tr>\n",
       "    <tr>\n",
       "      <th>3</th>\n",
       "      <td>Data Scientist</td>\n",
       "      <td>Junior Data Scientist</td>\n",
       "      <td>The Team: The Data science team is a newly for...</td>\n",
       "    </tr>\n",
       "    <tr>\n",
       "      <th>4</th>\n",
       "      <td>Data Scientist</td>\n",
       "      <td>Jr Data Scientist</td>\n",
       "      <td>We now have a need for junior Data Scientist(s...</td>\n",
       "    </tr>\n",
       "    <tr>\n",
       "      <th>5</th>\n",
       "      <td>Data Scientist</td>\n",
       "      <td>Data Scientist, Premium Content</td>\n",
       "      <td>Do you want to help guide the core business of...</td>\n",
       "    </tr>\n",
       "    <tr>\n",
       "      <th>...</th>\n",
       "      <td>...</td>\n",
       "      <td>...</td>\n",
       "      <td>...</td>\n",
       "    </tr>\n",
       "    <tr>\n",
       "      <th>9996</th>\n",
       "      <td>Network Architect</td>\n",
       "      <td>Learning Architect</td>\n",
       "      <td>The opportunity Our customers understand that ...</td>\n",
       "    </tr>\n",
       "    <tr>\n",
       "      <th>9997</th>\n",
       "      <td>Network Architect</td>\n",
       "      <td>Systems Architect</td>\n",
       "      <td>The NASA Ames Research Center has the requirem...</td>\n",
       "    </tr>\n",
       "    <tr>\n",
       "      <th>9998</th>\n",
       "      <td>Network Architect</td>\n",
       "      <td>Hardware Architect</td>\n",
       "      <td>What You'll Do Distinguished Engineer with pro...</td>\n",
       "    </tr>\n",
       "    <tr>\n",
       "      <th>9999</th>\n",
       "      <td>Network Architect</td>\n",
       "      <td>Software Development Engineer, Full Stack – E...</td>\n",
       "      <td>Software Development Engineer, Full Stack – En...</td>\n",
       "    </tr>\n",
       "    <tr>\n",
       "      <th>10000</th>\n",
       "      <td>Network Architect</td>\n",
       "      <td>Architect</td>\n",
       "      <td>Architect San Francisco, CA Leading provider o...</td>\n",
       "    </tr>\n",
       "  </tbody>\n",
       "</table>\n",
       "<p>10000 rows × 3 columns</p>\n",
       "</div>"
      ],
      "text/plain": [
       "                   Query                                          Job Title  \\\n",
       "1         Data Scientist               Junior Data Scientist Apprenticeship   \n",
       "2         Data Scientist                HBO Data Scientist, Content Science   \n",
       "3         Data Scientist                              Junior Data Scientist   \n",
       "4         Data Scientist                                  Jr Data Scientist   \n",
       "5         Data Scientist                    Data Scientist, Premium Content   \n",
       "...                  ...                                                ...   \n",
       "9996   Network Architect                                 Learning Architect   \n",
       "9997   Network Architect                                  Systems Architect   \n",
       "9998   Network Architect                                 Hardware Architect   \n",
       "9999   Network Architect   Software Development Engineer, Full Stack – E...   \n",
       "10000  Network Architect                                          Architect   \n",
       "\n",
       "                                             Description  \n",
       "1      Job Description As a Junior Data Scientist at ...  \n",
       "2      OVERALL SUMMARY As a Data Scientist on the Dat...  \n",
       "3      The Team: The Data science team is a newly for...  \n",
       "4      We now have a need for junior Data Scientist(s...  \n",
       "5      Do you want to help guide the core business of...  \n",
       "...                                                  ...  \n",
       "9996   The opportunity Our customers understand that ...  \n",
       "9997   The NASA Ames Research Center has the requirem...  \n",
       "9998   What You'll Do Distinguished Engineer with pro...  \n",
       "9999   Software Development Engineer, Full Stack – En...  \n",
       "10000  Architect San Francisco, CA Leading provider o...  \n",
       "\n",
       "[10000 rows x 3 columns]"
      ]
     },
     "execution_count": 9,
     "metadata": {},
     "output_type": "execute_result"
    }
   ],
   "source": [
    "data=pd.read_csv(\"C:\\\\Users\\\\Devrim\\\\Desktop\\\\Veri Bilimi ile örnek github\\\\Job_Recommendation_Engine_master\\\\Results\\\\JobsDataset.csv\",header = 0, names = ['Query', 'Job Title', 'Description'])\n",
    "\n",
    "data"
   ]
  },
  {
   "cell_type": "code",
   "execution_count": 11,
   "id": "f96102e6",
   "metadata": {},
   "outputs": [
    {
     "data": {
      "text/plain": [
       "1        Job Description As a Junior Data Scientist at ...\n",
       "2        OVERALL SUMMARY As a Data Scientist on the Dat...\n",
       "3        The Team: The Data science team is a newly for...\n",
       "4        We now have a need for junior Data Scientist(s...\n",
       "5        Do you want to help guide the core business of...\n",
       "                               ...                        \n",
       "9996     The opportunity Our customers understand that ...\n",
       "9997     The NASA Ames Research Center has the requirem...\n",
       "9998     What You'll Do Distinguished Engineer with pro...\n",
       "9999     Software Development Engineer, Full Stack – En...\n",
       "10000    Architect San Francisco, CA Leading provider o...\n",
       "Name: Description, Length: 10000, dtype: object"
      ]
     },
     "execution_count": 11,
     "metadata": {},
     "output_type": "execute_result"
    }
   ],
   "source": [
    "istanimi=data[\"Description\"]\n",
    "istanimi"
   ]
  },
  {
   "cell_type": "code",
   "execution_count": null,
   "id": "9e199c69",
   "metadata": {},
   "outputs": [],
   "source": []
  }
 ],
 "metadata": {
  "kernelspec": {
   "display_name": "Python 3",
   "language": "python",
   "name": "python3"
  },
  "language_info": {
   "codemirror_mode": {
    "name": "ipython",
    "version": 3
   },
   "file_extension": ".py",
   "mimetype": "text/x-python",
   "name": "python",
   "nbconvert_exporter": "python",
   "pygments_lexer": "ipython3",
   "version": "3.8.8"
  }
 },
 "nbformat": 4,
 "nbformat_minor": 5
}
