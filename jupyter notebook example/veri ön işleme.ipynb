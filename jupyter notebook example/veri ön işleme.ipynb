{
 "cells": [
  {
   "cell_type": "code",
   "execution_count": 25,
   "id": "52a94243",
   "metadata": {},
   "outputs": [],
   "source": [
    "metin1 = \"Veri Bilimi*3,5, acaba ama hiç şüphesiz günümüzün en popüler araştırma ve uygulama alanlarının başında geliyor.\"\n",
    "metin2 = \"Doğal Dil İşleme, doğal dillerin kurallı yapısının çözümlenerek anlaşılması veya yeniden üretilmesi amacını taşır.\"\n",
    "metin3 = \"Yapay Zeka, bilgisayarın veya bilgisayar kontrolündeki bir robotun çeşitli faaliyetleri zeki canlılara benzer şekilde yerine getirme kabiliyetidir.\"\n",
    "metin4 = \"Derin Öğrenme bir makine öğrenme yöntemidir.\"\n",
    "metin5 = \"Bulanık Mantık kavramı ilk olarak Lotfi A. Zadeh tarafından 1965 tarihinde yayımlanan “The Theory of Fuzzy Logic and Fuzzy Sets” (Bulanık Mantık ve Bulanık Kümeler Kuramı) adlı makalede ortaya atıldı.\"\n",
    "metin6 = \"Pekiştirmeli öğrenme, davranışçılıktan esinlenen, öznelerin bir ortamda en yüksek ödül miktarına ulaşabilmesi için hangi eylemleri yapması gerektiğiyle ilgilenen bir makine öğrenmesi yaklaşımıdır.\"\n"
   ]
  },
  {
   "cell_type": "code",
   "execution_count": 26,
   "id": "366bdd54",
   "metadata": {},
   "outputs": [
    {
     "name": "stdout",
     "output_type": "stream",
     "text": [
      "                                               ifade\n",
      "0  Veri Bilimi*3,5, acaba ama hiç şüphesiz günümü...\n",
      "1  Doğal Dil İşleme, doğal dillerin kurallı yapıs...\n",
      "2  Yapay Zeka, bilgisayarın veya bilgisayar kontr...\n",
      "3       Derin Öğrenme bir makine öğrenme yöntemidir.\n",
      "4  Bulanık Mantık kavramı ilk olarak Lotfi A. Zad...\n",
      "5  Pekiştirmeli öğrenme, davranışçılıktan esinlen...\n"
     ]
    }
   ],
   "source": [
    "import pandas as pd \n",
    "veri=pd.DataFrame({\"ifade\":[metin1,metin2,metin3,metin4,metin5,metin6]}, dtype=\"string\")\n",
    "print(veri)"
   ]
  },
  {
   "cell_type": "code",
   "execution_count": 27,
   "id": "9c6d5a70",
   "metadata": {},
   "outputs": [
    {
     "name": "stdout",
     "output_type": "stream",
     "text": [
      "                                               ifade\n",
      "0  veri bilimi*3,5, acaba ama hiç şüphesiz günümü...\n",
      "1  Doğal Dil İşleme, doğal dillerin kurallı yapıs...\n",
      "2  Yapay Zeka, bilgisayarın veya bilgisayar kontr...\n",
      "3       Derin Öğrenme bir makine öğrenme yöntemidir.\n",
      "4  Bulanık Mantık kavramı ilk olarak Lotfi A. Zad...\n",
      "5  Pekiştirmeli öğrenme, davranışçılıktan esinlen...\n",
      "                                               ifade\n",
      "0  veri bilimi*3,5, acaba ama hiç şüphesiz günümü...\n",
      "1  doğal dil i̇şleme, doğal dillerin kurallı yapı...\n",
      "2  Yapay Zeka, bilgisayarın veya bilgisayar kontr...\n",
      "3       Derin Öğrenme bir makine öğrenme yöntemidir.\n",
      "4  Bulanık Mantık kavramı ilk olarak Lotfi A. Zad...\n",
      "5  Pekiştirmeli öğrenme, davranışçılıktan esinlen...\n",
      "                                               ifade\n",
      "0  veri bilimi*3,5, acaba ama hiç şüphesiz günümü...\n",
      "1  doğal dil i̇şleme, doğal dillerin kurallı yapı...\n",
      "2  yapay zeka, bilgisayarın veya bilgisayar kontr...\n",
      "3       Derin Öğrenme bir makine öğrenme yöntemidir.\n",
      "4  Bulanık Mantık kavramı ilk olarak Lotfi A. Zad...\n",
      "5  Pekiştirmeli öğrenme, davranışçılıktan esinlen...\n",
      "                                               ifade\n",
      "0  veri bilimi*3,5, acaba ama hiç şüphesiz günümü...\n",
      "1  doğal dil i̇şleme, doğal dillerin kurallı yapı...\n",
      "2  yapay zeka, bilgisayarın veya bilgisayar kontr...\n",
      "3       derin öğrenme bir makine öğrenme yöntemidir.\n",
      "4  Bulanık Mantık kavramı ilk olarak Lotfi A. Zad...\n",
      "5  Pekiştirmeli öğrenme, davranışçılıktan esinlen...\n",
      "                                               ifade\n",
      "0  veri bilimi*3,5, acaba ama hiç şüphesiz günümü...\n",
      "1  doğal dil i̇şleme, doğal dillerin kurallı yapı...\n",
      "2  yapay zeka, bilgisayarın veya bilgisayar kontr...\n",
      "3       derin öğrenme bir makine öğrenme yöntemidir.\n",
      "4  bulanık mantık kavramı ilk olarak lotfi a. zad...\n",
      "5  Pekiştirmeli öğrenme, davranışçılıktan esinlen...\n",
      "                                               ifade\n",
      "0  veri bilimi*3,5, acaba ama hiç şüphesiz günümü...\n",
      "1  doğal dil i̇şleme, doğal dillerin kurallı yapı...\n",
      "2  yapay zeka, bilgisayarın veya bilgisayar kontr...\n",
      "3       derin öğrenme bir makine öğrenme yöntemidir.\n",
      "4  bulanık mantık kavramı ilk olarak lotfi a. zad...\n",
      "5  pekiştirmeli öğrenme, davranışçılıktan esinlen...\n"
     ]
    }
   ],
   "source": [
    "for  i in range(len(veri.loc[:,'ifade'])):\n",
    "    veri.loc[i,'ifade']=veri.loc[i,'ifade'].lower()\n",
    "    print(veri)"
   ]
  },
  {
   "cell_type": "code",
   "execution_count": 28,
   "id": "f0502b32",
   "metadata": {},
   "outputs": [
    {
     "name": "stdout",
     "output_type": "stream",
     "text": [
      "0    veri bilimi*3,5, acaba ama hiç şüphesiz günümü...\n",
      "1    doğal dil i̇şleme, doğal dillerin kurallı yapı...\n",
      "2    yapay zeka, bilgisayarın veya bilgisayar kontr...\n",
      "3         derin öğrenme bir makine öğrenme yöntemidir.\n",
      "4    bulanık mantık kavramı ilk olarak lotfi a. zad...\n",
      "5    pekiştirmeli öğrenme, davranışçılıktan esinlen...\n",
      "Name: ifade, dtype: object\n"
     ]
    }
   ],
   "source": [
    "duzelmis_veri=veri[\"ifade\"].apply(lambda x:\" \".join(x.lower() for x in x.split()))\n",
    "print(duzelmis_veri)"
   ]
  },
  {
   "cell_type": "code",
   "execution_count": 29,
   "id": "20282756",
   "metadata": {},
   "outputs": [
    {
     "data": {
      "text/plain": [
       "0    veri bilimi*3,5, acaba ama hiç şüphesiz günümü...\n",
       "1    doğal dil i̇şleme, doğal dillerin kurallı yapı...\n",
       "2    yapay zeka, bilgisayarın veya bilgisayar kontr...\n",
       "3         derin öğrenme bir makine öğrenme yöntemidir.\n",
       "4    bulanık mantık kavramı ilk olarak lotfi a. zad...\n",
       "5    pekiştirmeli öğrenme, davranışçılıktan esinlen...\n",
       "Name: ifade, dtype: object"
      ]
     },
     "execution_count": 29,
     "metadata": {},
     "output_type": "execute_result"
    }
   ],
   "source": [
    "duzelmis_veri2=duzelmis_veri.replace(\"[^\\w\\s]\")\n",
    "duzelmis_veri2"
   ]
  },
  {
   "cell_type": "code",
   "execution_count": 30,
   "id": "13c6e8e7",
   "metadata": {},
   "outputs": [
    {
     "name": "stderr",
     "output_type": "stream",
     "text": [
      "<ipython-input-30-2647cfba5076>:1: FutureWarning: The default value of regex will change from True to False in a future version.\n",
      "  duzelmis_veri3=duzelmis_veri2.str.replace(\"\\d\",\"\")\n"
     ]
    },
    {
     "data": {
      "text/plain": [
       "0    veri bilimi*,, acaba ama hiç şüphesiz günümüzü...\n",
       "1    doğal dil i̇şleme, doğal dillerin kurallı yapı...\n",
       "2    yapay zeka, bilgisayarın veya bilgisayar kontr...\n",
       "3         derin öğrenme bir makine öğrenme yöntemidir.\n",
       "4    bulanık mantık kavramı ilk olarak lotfi a. zad...\n",
       "5    pekiştirmeli öğrenme, davranışçılıktan esinlen...\n",
       "Name: ifade, dtype: object"
      ]
     },
     "execution_count": 30,
     "metadata": {},
     "output_type": "execute_result"
    }
   ],
   "source": [
    "duzelmis_veri3=duzelmis_veri2.str.replace(\"\\d\",\"\")\n",
    "duzelmis_veri3"
   ]
  },
  {
   "cell_type": "code",
   "execution_count": 31,
   "id": "17b45727",
   "metadata": {},
   "outputs": [
    {
     "name": "stdout",
     "output_type": "stream",
     "text": [
      "0    veri bilimi*,, şüphesiz günümüzün popüler araş...\n",
      "1    doğal dil i̇şleme, doğal dillerin kurallı yapı...\n",
      "2    yapay zeka, bilgisayarın bilgisayar kontrolünd...\n",
      "3         derin öğrenme bir makine öğrenme yöntemidir.\n",
      "4    bulanık mantık kavramı ilk olarak lotfi a. zad...\n",
      "5    pekiştirmeli öğrenme, davranışçılıktan esinlen...\n",
      "Name: ifade, dtype: object\n"
     ]
    },
    {
     "name": "stderr",
     "output_type": "stream",
     "text": [
      "[nltk_data] Downloading package stopwords to\n",
      "[nltk_data]     C:\\Users\\Devrim\\AppData\\Roaming\\nltk_data...\n",
      "[nltk_data]   Package stopwords is already up-to-date!\n"
     ]
    }
   ],
   "source": [
    "import nltk\n",
    "nltk.download(\"stopwords\")\n",
    "from nltk.corpus import stopwords\n",
    "\n",
    "duraklama_kelimeleri=stopwords.words(\"turkish\")\n",
    "\n",
    "duzelmis_veri4=pd.DataFrame(duzelmis_veri3,columns=[\"ifade\"])\n",
    "duzelmis_veri5=duzelmis_veri4[\"ifade\"].apply(lambda x:\" \".join(x for x in x.split() if x not in duraklama_kelimeleri))\n",
    "print(duzelmis_veri5)"
   ]
  },
  {
   "cell_type": "code",
   "execution_count": 32,
   "id": "bd0eac91",
   "metadata": {},
   "outputs": [
    {
     "name": "stdout",
     "output_type": "stream",
     "text": [
      "Requirement already satisfied: advertools in c:\\users\\devrim\\anaconda3\\envs\\tensorflow_keras\\lib\\site-packages (0.11.1)\n",
      "Requirement already satisfied: scrapy in c:\\users\\devrim\\anaconda3\\envs\\tensorflow_keras\\lib\\site-packages (from advertools) (2.5.0)\n",
      "Requirement already satisfied: pyasn1 in c:\\users\\devrim\\anaconda3\\envs\\tensorflow_keras\\lib\\site-packages (from advertools) (0.4.8)\n",
      "Requirement already satisfied: pandas in c:\\users\\devrim\\anaconda3\\envs\\tensorflow_keras\\lib\\site-packages (from advertools) (1.2.3)\n",
      "Requirement already satisfied: twython in c:\\users\\devrim\\anaconda3\\envs\\tensorflow_keras\\lib\\site-packages (from advertools) (3.9.1)\n",
      "Requirement already satisfied: pytz>=2017.3 in c:\\users\\devrim\\anaconda3\\envs\\tensorflow_keras\\lib\\site-packages (from pandas->advertools) (2021.1)\n",
      "Requirement already satisfied: numpy>=1.16.5 in c:\\users\\devrim\\anaconda3\\envs\\tensorflow_keras\\lib\\site-packages (from pandas->advertools) (1.19.2)\n",
      "Requirement already satisfied: python-dateutil>=2.7.3 in c:\\users\\devrim\\anaconda3\\envs\\tensorflow_keras\\lib\\site-packages (from pandas->advertools) (2.8.1)\n",
      "Requirement already satisfied: six>=1.5 in c:\\users\\devrim\\anaconda3\\envs\\tensorflow_keras\\lib\\site-packages (from python-dateutil>=2.7.3->pandas->advertools) (1.15.0)\n",
      "Requirement already satisfied: h2<4.0,>=3.0 in c:\\users\\devrim\\anaconda3\\envs\\tensorflow_keras\\lib\\site-packages (from scrapy->advertools) (3.2.0)\n",
      "Requirement already satisfied: w3lib>=1.17.0 in c:\\users\\devrim\\anaconda3\\envs\\tensorflow_keras\\lib\\site-packages (from scrapy->advertools) (1.22.0)\n",
      "Requirement already satisfied: itemadapter>=0.1.0 in c:\\users\\devrim\\anaconda3\\envs\\tensorflow_keras\\lib\\site-packages (from scrapy->advertools) (0.3.0)\n",
      "Requirement already satisfied: cssselect>=0.9.1 in c:\\users\\devrim\\anaconda3\\envs\\tensorflow_keras\\lib\\site-packages (from scrapy->advertools) (1.1.0)\n",
      "Requirement already satisfied: cryptography>=2.0 in c:\\users\\devrim\\anaconda3\\envs\\tensorflow_keras\\lib\\site-packages (from scrapy->advertools) (3.4.7)\n",
      "Requirement already satisfied: parsel>=1.5.0 in c:\\users\\devrim\\anaconda3\\envs\\tensorflow_keras\\lib\\site-packages (from scrapy->advertools) (1.6.0)\n",
      "Requirement already satisfied: zope.interface>=4.1.3 in c:\\users\\devrim\\anaconda3\\envs\\tensorflow_keras\\lib\\site-packages (from scrapy->advertools) (5.4.0)\n",
      "Requirement already satisfied: lxml>=3.5.0 in c:\\users\\devrim\\anaconda3\\envs\\tensorflow_keras\\lib\\site-packages (from scrapy->advertools) (4.6.3)\n",
      "Requirement already satisfied: pyOpenSSL>=16.2.0 in c:\\users\\devrim\\anaconda3\\envs\\tensorflow_keras\\lib\\site-packages (from scrapy->advertools) (20.0.1)\n",
      "Requirement already satisfied: Twisted[http2]>=17.9.0 in c:\\users\\devrim\\anaconda3\\envs\\tensorflow_keras\\lib\\site-packages (from scrapy->advertools) (21.2.0)\n",
      "Requirement already satisfied: service-identity>=16.0.0 in c:\\users\\devrim\\anaconda3\\envs\\tensorflow_keras\\lib\\site-packages (from scrapy->advertools) (21.1.0)\n",
      "Requirement already satisfied: PyDispatcher>=2.0.5 in c:\\users\\devrim\\anaconda3\\envs\\tensorflow_keras\\lib\\site-packages (from scrapy->advertools) (2.0.5)\n",
      "Requirement already satisfied: queuelib>=1.4.2 in c:\\users\\devrim\\anaconda3\\envs\\tensorflow_keras\\lib\\site-packages (from scrapy->advertools) (1.6.1)\n",
      "Requirement already satisfied: itemloaders>=1.0.1 in c:\\users\\devrim\\anaconda3\\envs\\tensorflow_keras\\lib\\site-packages (from scrapy->advertools) (1.0.4)\n",
      "Requirement already satisfied: protego>=0.1.15 in c:\\users\\devrim\\anaconda3\\envs\\tensorflow_keras\\lib\\site-packages (from scrapy->advertools) (0.1.16)\n",
      "Requirement already satisfied: cffi>=1.12 in c:\\users\\devrim\\anaconda3\\envs\\tensorflow_keras\\lib\\site-packages (from cryptography>=2.0->scrapy->advertools) (1.14.5)\n",
      "Requirement already satisfied: pycparser in c:\\users\\devrim\\anaconda3\\envs\\tensorflow_keras\\lib\\site-packages (from cffi>=1.12->cryptography>=2.0->scrapy->advertools) (2.20)\n",
      "Requirement already satisfied: hyperframe<6,>=5.2.0 in c:\\users\\devrim\\anaconda3\\envs\\tensorflow_keras\\lib\\site-packages (from h2<4.0,>=3.0->scrapy->advertools) (5.2.0)\n",
      "Requirement already satisfied: hpack<4,>=3.0 in c:\\users\\devrim\\anaconda3\\envs\\tensorflow_keras\\lib\\site-packages (from h2<4.0,>=3.0->scrapy->advertools) (3.0.0)\n",
      "Requirement already satisfied: jmespath>=0.9.5 in c:\\users\\devrim\\anaconda3\\envs\\tensorflow_keras\\lib\\site-packages (from itemloaders>=1.0.1->scrapy->advertools) (0.10.0)\n",
      "Requirement already satisfied: pyasn1-modules in c:\\users\\devrim\\anaconda3\\envs\\tensorflow_keras\\lib\\site-packages (from service-identity>=16.0.0->scrapy->advertools) (0.2.8)\n",
      "Requirement already satisfied: attrs>=19.1.0 in c:\\users\\devrim\\anaconda3\\envs\\tensorflow_keras\\lib\\site-packages (from service-identity>=16.0.0->scrapy->advertools) (20.3.0)\n",
      "Requirement already satisfied: incremental>=16.10.1 in c:\\users\\devrim\\anaconda3\\envs\\tensorflow_keras\\lib\\site-packages (from Twisted[http2]>=17.9.0->scrapy->advertools) (21.3.0)\n",
      "Requirement already satisfied: Automat>=0.8.0 in c:\\users\\devrim\\anaconda3\\envs\\tensorflow_keras\\lib\\site-packages (from Twisted[http2]>=17.9.0->scrapy->advertools) (20.2.0)\n",
      "Requirement already satisfied: hyperlink>=17.1.1 in c:\\users\\devrim\\anaconda3\\envs\\tensorflow_keras\\lib\\site-packages (from Twisted[http2]>=17.9.0->scrapy->advertools) (21.0.0)\n",
      "Requirement already satisfied: twisted-iocpsupport~=1.0.0 in c:\\users\\devrim\\anaconda3\\envs\\tensorflow_keras\\lib\\site-packages (from Twisted[http2]>=17.9.0->scrapy->advertools) (1.0.1)\n",
      "Requirement already satisfied: constantly>=15.1 in c:\\users\\devrim\\anaconda3\\envs\\tensorflow_keras\\lib\\site-packages (from Twisted[http2]>=17.9.0->scrapy->advertools) (15.1.0)\n",
      "Requirement already satisfied: priority<2.0,>=1.1.0 in c:\\users\\devrim\\anaconda3\\envs\\tensorflow_keras\\lib\\site-packages (from Twisted[http2]>=17.9.0->scrapy->advertools) (1.3.0)\n",
      "Requirement already satisfied: idna>=2.5 in c:\\users\\devrim\\anaconda3\\envs\\tensorflow_keras\\lib\\site-packages (from hyperlink>=17.1.1->Twisted[http2]>=17.9.0->scrapy->advertools) (2.10)\n",
      "Requirement already satisfied: setuptools in c:\\users\\devrim\\anaconda3\\envs\\tensorflow_keras\\lib\\site-packages (from zope.interface>=4.1.3->scrapy->advertools) (52.0.0.post20210125)\n",
      "Requirement already satisfied: requests-oauthlib>=0.4.0 in c:\\users\\devrim\\anaconda3\\envs\\tensorflow_keras\\lib\\site-packages (from twython->advertools) (1.3.0)\n",
      "Requirement already satisfied: requests>=2.1.0 in c:\\users\\devrim\\anaconda3\\envs\\tensorflow_keras\\lib\\site-packages (from twython->advertools) (2.25.1)\n",
      "Requirement already satisfied: certifi>=2017.4.17 in c:\\users\\devrim\\anaconda3\\envs\\tensorflow_keras\\lib\\site-packages (from requests>=2.1.0->twython->advertools) (2021.5.30)\n",
      "Requirement already satisfied: chardet<5,>=3.0.2 in c:\\users\\devrim\\anaconda3\\envs\\tensorflow_keras\\lib\\site-packages (from requests>=2.1.0->twython->advertools) (3.0.4)\n",
      "Requirement already satisfied: urllib3<1.27,>=1.21.1 in c:\\users\\devrim\\anaconda3\\envs\\tensorflow_keras\\lib\\site-packages (from requests>=2.1.0->twython->advertools) (1.26.4)\n",
      "Requirement already satisfied: oauthlib>=3.0.0 in c:\\users\\devrim\\anaconda3\\envs\\tensorflow_keras\\lib\\site-packages (from requests-oauthlib>=0.4.0->twython->advertools) (3.1.0)\n"
     ]
    }
   ],
   "source": [
    "!pip install advertools\n"
   ]
  },
  {
   "cell_type": "code",
   "execution_count": 33,
   "id": "10064ca5",
   "metadata": {},
   "outputs": [
    {
     "name": "stdout",
     "output_type": "stream",
     "text": [
      "0    veri bilimi*,, şüphesiz günümüzün popüler araş...\n",
      "1    doğal dil i̇şleme, doğal dillerin kurallı yapı...\n",
      "2    yapay zeka, bilgisayarın bilgisayar kontrolünd...\n",
      "3         derin öğrenme bir makine öğrenme yöntemidir.\n",
      "4    bulanık mantık kavramı lotfi a. zadeh tarihind...\n",
      "5    pekiştirmeli öğrenme, davranışçılıktan esinlen...\n",
      "Name: ifade, dtype: object\n"
     ]
    }
   ],
   "source": [
    "import advertools as adv\n",
    "diger_duraklama_kelimeleri=sorted(adv.stopwords['turkish'])[:]\n",
    "\n",
    "duzelmis_veri5_1=duzelmis_veri4[\"ifade\"].apply(lambda x:\" \".join(x for x in x.split() if x not in diger_duraklama_kelimeleri))\n",
    "print(duzelmis_veri5_1)"
   ]
  },
  {
   "cell_type": "code",
   "execution_count": 34,
   "id": "615725f3",
   "metadata": {},
   "outputs": [
    {
     "name": "stdout",
     "output_type": "stream",
     "text": [
      "                                               ifade\n",
      "0  veri bilimi*,, şüphesiz günümüzün popüler araş...\n",
      "1  doğal dil i̇şleme, doğal dillerin kurallı yapı...\n",
      "2  yapay zeka, bilgisayarın bilgisayar kontrolünd...\n",
      "3       derin öğrenme bir makine öğrenme yöntemidir.\n",
      "4  bulanık mantık kavramı ilk olarak lotfi a. zad...\n",
      "5  pekiştirmeli öğrenme, davranışçılıktan esinlen...\n"
     ]
    }
   ],
   "source": [
    "duzelmis_veri5=pd.DataFrame(duzelmis_veri5,columns=[\"ifade\"])\n",
    "\n",
    "pd.Series(\" \".join(duzelmis_veri5[\"ifade\"]).split()).value_counts()\n",
    "az_gecenler=pd.Series(\" \".join(duzelmis_veri5[\"ifade\"]).split()).value_counts()[-3:]\n",
    "\n",
    "print(duzelmis_veri5)"
   ]
  },
  {
   "cell_type": "code",
   "execution_count": 43,
   "id": "c5d52ce7",
   "metadata": {},
   "outputs": [
    {
     "name": "stdout",
     "output_type": "stream",
     "text": [
      "0    veri bilimi*,, şüphesiz günümüzün popüler araş...\n",
      "1    doğal dil i̇şleme, doğal dillerin kurallı yapı...\n",
      "2    yapay zeka, bilgisayarın bilgisayar kontrolünd...\n",
      "3             derin öğrenme makine öğrenme yöntemidir.\n",
      "4    mantık kavramı ilk olarak lotfi a. zadeh taraf...\n",
      "5    pekiştirmeli öğrenme, davranışçılıktan esinlen...\n",
      "Name: ifade, dtype: object\n"
     ]
    }
   ],
   "source": [
    "duzelmis_veri6 = duzelmis_veri5[\"ifade\"].apply(lambda x: \" \".join(i for i in x.split() if i not in az_gecenler)) \n",
    " \n",
    "# Şimdi de listenin en başından 3 tane attık. En çok geçen 3 kelime. \n",
    "cok_gecenler = pd.Series(\" \".join(duzelmis_veri5[\"ifade\"]).split()).value_counts()[0:3] \n",
    "duzelmis_veri7 = duzelmis_veri5[\"ifade\"].apply(lambda x: \" \".join(i for i in x.split() if i not in cok_gecenler))\n",
    "print(duzelmis_veri7)"
   ]
  },
  {
   "cell_type": "code",
   "execution_count": 46,
   "id": "a12bcf83",
   "metadata": {},
   "outputs": [
    {
     "name": "stdout",
     "output_type": "stream",
     "text": [
      "0    bilimi*,, şüphesiz günümüzün popüler araştırma...\n",
      "1    doğal dil i̇şleme, doğal dillerin kurallı yapı...\n",
      "2    yapay zeka, bilgisayarın bilgisayar kontrolünd...\n",
      "3             derin öğrenme makine öğrenme yöntemidir.\n",
      "4    mantık kavramı ilk olarak lotfi a. zadeh taraf...\n",
      "5    pekiştirmeli öğrenme, davranışçılıktan esinlen...\n",
      "Name: ifade, dtype: object\n"
     ]
    }
   ],
   "source": [
    "istenmeyen_kelimeler=[\"veri\",\"bilimi\"]\n",
    "duzelmis_veri8=pd.DataFrame(duzelmis_veri7,columns=[\"ifade\"])\n",
    "\n",
    "duzelmis_veri8=duzelmis_veri8[\"ifade\"].apply(lambda x: \" \".join(x for x in x.split() if x not in istenmeyen_kelimeler))\n",
    "print(duzelmis_veri8)"
   ]
  },
  {
   "cell_type": "code",
   "execution_count": 47,
   "id": "198d6877",
   "metadata": {},
   "outputs": [],
   "source": [
    "#33333333333333333333333333333333333333333333333333333333333333333"
   ]
  },
  {
   "cell_type": "code",
   "execution_count": 48,
   "id": "674f1841",
   "metadata": {},
   "outputs": [],
   "source": [
    "dokuman = \"Veri bilimi, yeni nesil hikaye anlatıcılığıdır. Bu hikaye gerçeğin hikayesidir.\""
   ]
  },
  {
   "cell_type": "code",
   "execution_count": 49,
   "id": "1b36c739",
   "metadata": {},
   "outputs": [
    {
     "data": {
      "text/plain": [
       "['Veri', 'bilimi,', 'yeni', 'nesil', 'hikaye']"
      ]
     },
     "execution_count": 49,
     "metadata": {},
     "output_type": "execute_result"
    }
   ],
   "source": [
    "dokuman.split()[0:5]"
   ]
  },
  {
   "cell_type": "code",
   "execution_count": 50,
   "id": "fed51dbf",
   "metadata": {},
   "outputs": [],
   "source": [
    "from nltk.tokenize import sent_tokenize,word_tokenize\n"
   ]
  },
  {
   "cell_type": "code",
   "execution_count": 56,
   "id": "7b195608",
   "metadata": {},
   "outputs": [
    {
     "data": {
      "text/plain": [
       "['Veri', 'bilimi', ',', 'yeni', 'nesil', 'hikaye', 'anlatıcılığıdır']"
      ]
     },
     "execution_count": 56,
     "metadata": {},
     "output_type": "execute_result"
    }
   ],
   "source": [
    "word_tokenize(dokuman)[0:7]"
   ]
  },
  {
   "cell_type": "code",
   "execution_count": 57,
   "id": "1683ec1d",
   "metadata": {},
   "outputs": [
    {
     "data": {
      "text/plain": [
       "['Veri bilimi, yeni nesil hikaye anlatıcılığıdır.',\n",
       " 'Bu hikaye gerçeğin hikayesidir.']"
      ]
     },
     "execution_count": 57,
     "metadata": {},
     "output_type": "execute_result"
    }
   ],
   "source": [
    "sent_tokenize(dokuman)[0:7]"
   ]
  },
  {
   "cell_type": "code",
   "execution_count": 71,
   "id": "216252ed",
   "metadata": {},
   "outputs": [],
   "source": [
    "from nltk.stem.snowball import SnowballStemmer\n",
    "from nltk.stem  import PorterStemmer\n",
    "stemmer1=PorterStemmer()\n",
    "stemmer2=SnowballStemmer('english')\n",
    "doc = ['wait', 'waiting', 'waited', 'waits', 'waiter' ,'children']"
   ]
  },
  {
   "cell_type": "code",
   "execution_count": 72,
   "id": "8f04942e",
   "metadata": {
    "scrolled": true
   },
   "outputs": [
    {
     "name": "stdout",
     "output_type": "stream",
     "text": [
      "wait\n",
      "wait\n",
      "wait\n",
      "wait\n",
      "waiter\n",
      "children\n"
     ]
    }
   ],
   "source": [
    "for w in doc:\n",
    "    print(stemmer1.stem(w))"
   ]
  },
  {
   "cell_type": "code",
   "execution_count": 74,
   "id": "47917876",
   "metadata": {},
   "outputs": [
    {
     "name": "stdout",
     "output_type": "stream",
     "text": [
      "wait\n",
      "wait\n",
      "wait\n",
      "wait\n",
      "waiter\n",
      "children\n"
     ]
    }
   ],
   "source": [
    "for w in doc:\n",
    "    print(stemmer2.stem(w))"
   ]
  },
  {
   "cell_type": "code",
   "execution_count": 82,
   "id": "99e9c98d",
   "metadata": {},
   "outputs": [
    {
     "name": "stderr",
     "output_type": "stream",
     "text": [
      "[nltk_data] Downloading package wordnet to\n",
      "[nltk_data]     C:\\Users\\Devrim\\AppData\\Roaming\\nltk_data...\n",
      "[nltk_data]   Unzipping corpora\\wordnet.zip.\n"
     ]
    }
   ],
   "source": [
    "from nltk.stem import WordNetLemmatizer\n",
    "import nltk\n",
    "nltk.download('wordnet')\n",
    "lem=WordNetLemmatizer()\n"
   ]
  },
  {
   "cell_type": "code",
   "execution_count": 83,
   "id": "7625869a",
   "metadata": {},
   "outputs": [],
   "source": [
    "doc2 = ['wait', 'waiting', 'waited', 'waits', 'children']"
   ]
  },
  {
   "cell_type": "code",
   "execution_count": 85,
   "id": "053ccd30",
   "metadata": {},
   "outputs": [
    {
     "name": "stdout",
     "output_type": "stream",
     "text": [
      "wait\n",
      "wait\n",
      "wait\n",
      "wait\n",
      "children\n"
     ]
    }
   ],
   "source": [
    "for w in doc2:\n",
    "    print(lem.lemmatize(w,'v'))"
   ]
  },
  {
   "cell_type": "code",
   "execution_count": 86,
   "id": "54152a87",
   "metadata": {},
   "outputs": [
    {
     "name": "stdout",
     "output_type": "stream",
     "text": [
      "Collecting textblob\n",
      "  Downloading textblob-0.15.3-py2.py3-none-any.whl (636 kB)\n",
      "Requirement already satisfied: nltk>=3.1 in c:\\users\\devrim\\anaconda3\\envs\\tensorflow_keras\\lib\\site-packages (from textblob) (3.5)\n",
      "Requirement already satisfied: joblib in c:\\users\\devrim\\anaconda3\\envs\\tensorflow_keras\\lib\\site-packages (from nltk>=3.1->textblob) (1.0.1)\n",
      "Requirement already satisfied: tqdm in c:\\users\\devrim\\anaconda3\\envs\\tensorflow_keras\\lib\\site-packages (from nltk>=3.1->textblob) (4.61.2)\n",
      "Requirement already satisfied: click in c:\\users\\devrim\\anaconda3\\envs\\tensorflow_keras\\lib\\site-packages (from nltk>=3.1->textblob) (7.1.2)\n",
      "Requirement already satisfied: regex in c:\\users\\devrim\\anaconda3\\envs\\tensorflow_keras\\lib\\site-packages (from nltk>=3.1->textblob) (2021.7.6)\n",
      "Requirement already satisfied: colorama in c:\\users\\devrim\\anaconda3\\envs\\tensorflow_keras\\lib\\site-packages (from tqdm->nltk>=3.1->textblob) (0.4.4)\n",
      "Installing collected packages: textblob\n",
      "Successfully installed textblob-0.15.3\n"
     ]
    }
   ],
   "source": [
    "!pip install textblob"
   ]
  },
  {
   "cell_type": "code",
   "execution_count": 87,
   "id": "d9cc4f8c",
   "metadata": {},
   "outputs": [],
   "source": [
    "import textblob\n",
    "from textblob import TextBlob\n"
   ]
  },
  {
   "cell_type": "code",
   "execution_count": 90,
   "id": "b76e258a",
   "metadata": {},
   "outputs": [
    {
     "data": {
      "text/plain": [
       "WordList(['Veri', 'bilimi', 'yeni', 'nesil', 'hikaye', 'anlatıcılığıdır', 'Bu', 'hikaye', 'gerçeğin', 'hikayesidir'])"
      ]
     },
     "execution_count": 90,
     "metadata": {},
     "output_type": "execute_result"
    }
   ],
   "source": [
    "TextBlob(dokuman).words[::]"
   ]
  },
  {
   "cell_type": "code",
   "execution_count": null,
   "id": "d84b0a34",
   "metadata": {},
   "outputs": [],
   "source": []
  }
 ],
 "metadata": {
  "kernelspec": {
   "display_name": "Python 3",
   "language": "python",
   "name": "python3"
  },
  "language_info": {
   "codemirror_mode": {
    "name": "ipython",
    "version": 3
   },
   "file_extension": ".py",
   "mimetype": "text/x-python",
   "name": "python",
   "nbconvert_exporter": "python",
   "pygments_lexer": "ipython3",
   "version": "3.8.8"
  }
 },
 "nbformat": 4,
 "nbformat_minor": 5
}
